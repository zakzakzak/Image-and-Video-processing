{
  "nbformat": 4,
  "nbformat_minor": 0,
  "metadata": {
    "colab": {
      "name": "deep1.ipynb",
      "provenance": [],
      "collapsed_sections": [],
      "authorship_tag": "ABX9TyNQa3bW9xK0wNGDX8CSiGKZ",
      "include_colab_link": true
    },
    "kernelspec": {
      "name": "python3",
      "display_name": "Python 3"
    }
  },
  "cells": [
    {
      "cell_type": "markdown",
      "metadata": {
        "id": "view-in-github",
        "colab_type": "text"
      },
      "source": [
        "<a href=\"https://colab.research.google.com/github/zakzakzak/Image-and-Video-processing/blob/master/deep1.ipynb\" target=\"_parent\"><img src=\"https://colab.research.google.com/assets/colab-badge.svg\" alt=\"Open In Colab\"/></a>"
      ]
    },
    {
      "cell_type": "code",
      "metadata": {
        "id": "KOrhYS6j5SaK",
        "colab_type": "code",
        "colab": {}
      },
      "source": [
        "# implementasi CNN tensorflow dengan data MNIST (grayscale)\n",
        "import tensorflow as tf"
      ],
      "execution_count": 17,
      "outputs": []
    },
    {
      "cell_type": "code",
      "metadata": {
        "id": "82_TAkFg68JW",
        "colab_type": "code",
        "colab": {
          "base_uri": "https://localhost:8080/",
          "height": 366
        },
        "outputId": "103a63b8-de73-4f65-e6e1-7a2ff58967cb"
      },
      "source": [
        "# pengambilan data\n",
        "mnist = tf.keras.datasets.mnist # 28 x 28\n",
        "(x_train, y_train) , (x_test, y_test) = mnist.load_data()\n",
        "\n",
        "# normalisasi\n",
        "x_train = tf.keras.utils.normalize(x_train, axis=1)\n",
        "x_test = tf.keras.utils.normalize(x_test, axis=1)\n",
        "\n",
        "# reshape dari 28,28 jadi 28,28,1 karena conv2D meminta input 3 dimensi\n",
        "x_train = x_train.reshape(x_train.shape[0], 28, 28, 1)\n",
        "x_test = x_test.reshape(x_test.shape[0], 28, 28, 1)\n",
        "\n",
        "# buat model\n",
        "model = tf.keras.models.Sequential()\n",
        "\n",
        "# layer konvolusi\n",
        "model.add(tf.keras.layers.Conv2D(64, (3,3), input_shape = x_train.shape[1:] ))\n",
        "model.add(tf.keras.layers.Activation(\"relu\"))\n",
        "model.add(tf.keras.layers.MaxPooling2D(pool_size=(2,2)))\n",
        "\n",
        "# model.add(tf.keras.layers.Conv2D(64, (3,3)))\n",
        "# model.add(tf.keras.layers.Activation(\"relu\"))\n",
        "# model.add(tf.keras.layers.MaxPooling2D(pool_size=(2,2)))\n",
        "\n",
        "# hasil gambar maxpooling dijadikan 1 dimensi dengan flatten\n",
        "model.add(tf.keras.layers.Flatten())\n",
        "model.add(tf.keras.layers.Dense(64))\n",
        "\n",
        "model.add(tf.keras.layers.Dense(10, activation=tf.nn.softmax))\n",
        "\n",
        "model.compile(optimizer='adam' ,\n",
        "              loss = 'sparse_categorical_crossentropy',\n",
        "              metrics=['accuracy'])\n",
        "\n",
        "model.fit(x_train, y_train, epochs=10)"
      ],
      "execution_count": 18,
      "outputs": [
        {
          "output_type": "stream",
          "text": [
            "Epoch 1/10\n",
            "1875/1875 [==============================] - 48s 25ms/step - loss: 0.1902 - accuracy: 0.9438\n",
            "Epoch 2/10\n",
            "1875/1875 [==============================] - 44s 23ms/step - loss: 0.0783 - accuracy: 0.9767\n",
            "Epoch 3/10\n",
            "1875/1875 [==============================] - 43s 23ms/step - loss: 0.0603 - accuracy: 0.9817\n",
            "Epoch 4/10\n",
            "1875/1875 [==============================] - 43s 23ms/step - loss: 0.0488 - accuracy: 0.9849\n",
            "Epoch 5/10\n",
            "1875/1875 [==============================] - 43s 23ms/step - loss: 0.0399 - accuracy: 0.9869\n",
            "Epoch 6/10\n",
            "1875/1875 [==============================] - 43s 23ms/step - loss: 0.0323 - accuracy: 0.9899\n",
            "Epoch 7/10\n",
            "1875/1875 [==============================] - 43s 23ms/step - loss: 0.0272 - accuracy: 0.9907\n",
            "Epoch 8/10\n",
            "1875/1875 [==============================] - 43s 23ms/step - loss: 0.0235 - accuracy: 0.9918\n",
            "Epoch 9/10\n",
            "1875/1875 [==============================] - 44s 24ms/step - loss: 0.0192 - accuracy: 0.9935\n",
            "Epoch 10/10\n",
            "1875/1875 [==============================] - 43s 23ms/step - loss: 0.0174 - accuracy: 0.9940\n"
          ],
          "name": "stdout"
        },
        {
          "output_type": "execute_result",
          "data": {
            "text/plain": [
              "<tensorflow.python.keras.callbacks.History at 0x7f702bd3cd68>"
            ]
          },
          "metadata": {
            "tags": []
          },
          "execution_count": 18
        }
      ]
    },
    {
      "cell_type": "code",
      "metadata": {
        "id": "k2bB6dxyALI5",
        "colab_type": "code",
        "colab": {}
      },
      "source": [
        "import matplotlib.pyplot as plt"
      ],
      "execution_count": 19,
      "outputs": []
    },
    {
      "cell_type": "code",
      "metadata": {
        "id": "gsrpG7sdAPhe",
        "colab_type": "code",
        "colab": {
          "base_uri": "https://localhost:8080/",
          "height": 281
        },
        "outputId": "86acdf9e-aab5-45c4-a86e-b99fee1e6cbb"
      },
      "source": [
        "# visualisasi salah satu dataset\n",
        "plt.imshow(x_train[0,:,:,0], cmap = plt.cm.binary)"
      ],
      "execution_count": 22,
      "outputs": [
        {
          "output_type": "execute_result",
          "data": {
            "text/plain": [
              "<matplotlib.image.AxesImage at 0x7f702adf0b38>"
            ]
          },
          "metadata": {
            "tags": []
          },
          "execution_count": 22
        },
        {
          "output_type": "display_data",
          "data": {
            "image/png": "[encoded data removed]",
            "text/plain": [
              "<Figure size 432x288 with 1 Axes>"
            ]
          },
          "metadata": {
            "tags": [],
            "needs_background": "light"
          }
        }
      ]
    },
    {
      "cell_type": "code",
      "metadata": {
        "id": "RBcA3w4LxXlc",
        "colab_type": "code",
        "colab": {}
      },
      "source": [
        ""
      ],
      "execution_count": null,
      "outputs": []
    }
  ]
}
